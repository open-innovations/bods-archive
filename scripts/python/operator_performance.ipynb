{
 "cells": [
  {
   "cell_type": "markdown",
   "id": "0f8badb0",
   "metadata": {},
   "source": [
    "\n",
    "# How well do operators report their buses in BODS?\n",
    "\n",
    "- download the timetables for a given day and live location GTFSRT zip file for a given day, using BulkDownloader\n",
    "- count how many trip_id from the timetable appear at least once in the live location data\n",
    "- do some processing with OperatorPerformance to make some stats and csv files\n",
    "\n",
    "## Notes\n",
    "\n",
    "- only save the output data file, do everything else in memory\n",
    "\n"
   ]
  },
  {
   "cell_type": "code",
   "execution_count": null,
   "id": "8f0665eb",
   "metadata": {},
   "outputs": [],
   "source": [
    "from OperatorPerformance import *\n",
    "from BulkDownloader import *\n",
    "import matplotlib.pyplot as plt"
   ]
  },
  {
   "cell_type": "code",
   "execution_count": null,
   "id": "670dcb08",
   "metadata": {},
   "outputs": [],
   "source": [
    "import os\n",
    "os.chdir(\"../..\")\n",
    "os.getcwd()"
   ]
  },
  {
   "cell_type": "code",
   "execution_count": null,
   "id": "7d276f9a",
   "metadata": {},
   "outputs": [],
   "source": [
    "BD = BulkDownloader(file_format='timetables').run()"
   ]
  },
  {
   "cell_type": "code",
   "execution_count": null,
   "id": "2c9ecd18",
   "metadata": {},
   "outputs": [],
   "source": [
    "BulkDownloader(file_format='gtfsrt').run()"
   ]
  },
  {
   "cell_type": "code",
   "execution_count": null,
   "id": "aa2db4b8",
   "metadata": {},
   "outputs": [],
   "source": [
    "OperatorPerformance().run(date='20250729')"
   ]
  },
  {
   "cell_type": "code",
   "execution_count": null,
   "id": "f20b547f",
   "metadata": {},
   "outputs": [],
   "source": [
    "# tt = GTFSTimetable(os.getcwd() + \"/temp/itm_south_west_gtfs_20250729.zip\")"
   ]
  },
  {
   "cell_type": "code",
   "execution_count": null,
   "id": "3c15e747",
   "metadata": {},
   "outputs": [],
   "source": [
    "# agency = tt.dfs['agency']\n",
    "# routes = tt.dfs['routes']\n",
    "# trips = tt.dfs['trips']\n",
    "# calendar = tt.dfs['calendar']\n",
    "\n",
    "# full_timetable = (agency\n",
    "#                 .merge(routes, on='agency_id', how='inner')\n",
    "#                 .merge(trips, on='route_id', how='inner')\n",
    "#                 .merge(calendar, on='service_id', how='inner')\n",
    "#                 )\n",
    "\n",
    "# # Start date of the route must be on the given day or earlier, end date is on the given day or after, and service must run on the given day of the week\n",
    "# timetable_for_given_date = full_timetable[\n",
    "#     (full_timetable.start_date <= 20250729) & \n",
    "#     (full_timetable.end_date >= 20250729) & \n",
    "#     (full_timetable['tuesday']==1)\n",
    "#     ]"
   ]
  },
  {
   "cell_type": "code",
   "execution_count": null,
   "id": "ce1a82fa",
   "metadata": {},
   "outputs": [],
   "source": [
    "# timetable_for_given_date.groupby(['agency_id', 'agency_name'])['trip_id'].size()"
   ]
  }
 ],
 "metadata": {
  "kernelspec": {
   "display_name": "Python 3",
   "language": "python",
   "name": "python3"
  },
  "language_info": {
   "codemirror_mode": {
    "name": "ipython",
    "version": 3
   },
   "file_extension": ".py",
   "mimetype": "text/x-python",
   "name": "python",
   "nbconvert_exporter": "python",
   "pygments_lexer": "ipython3",
   "version": "3.12.3"
  }
 },
 "nbformat": 4,
 "nbformat_minor": 5
}
