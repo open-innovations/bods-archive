{
 "cells": [
  {
   "cell_type": "markdown",
   "id": "27168a49",
   "metadata": {},
   "source": [
    "# How well do operators report their buses in BODS?\n",
    "\n",
    "- download the timetables for a given day.\n",
    "- download the live location zip file for a given day.\n",
    "- count how many `trip_id` from the timetable appear at least once in the live location data\n",
    "- group by operator\n",
    "- make a chart by region and operator \n",
    "- put the chart online and set up a GH action to update this daily\n",
    "\n",
    "Notes:\n",
    "- only save the output data file, do everything else in memory\n",
    "- include a retry for getting the data"
   ]
  },
  {
   "cell_type": "code",
   "execution_count": null,
   "id": "abdf14bc",
   "metadata": {},
   "outputs": [],
   "source": [
    "GTFSRT_URL = \"https://data.datalibrary.uk/transport/BODS-ARCHIVE/gtfsrt/\"\n",
    "# https://data.datalibrary.uk/transport/BODS-ARCHIVE/gtfsrt/2025/07/22/gtfsrt-20250722.zip"
   ]
  },
  {
   "cell_type": "code",
   "execution_count": null,
   "id": "1f4593d2",
   "metadata": {},
   "outputs": [],
   "source": [
    "from datetime import datetime\n",
    "from datetime import timedelta\n",
    "import os\n",
    "import requests\n",
    "from pathlib import Path\n",
    "import pandas as pd"
   ]
  },
  {
   "cell_type": "code",
   "execution_count": null,
   "id": "03298c5c",
   "metadata": {},
   "outputs": [],
   "source": [
    "# Create the file path we need to download based on the date\n",
    "yesterday = (datetime.today() - timedelta(days=1)).date()\n",
    "fname = 'gtfsrt-' + yesterday.strftime(\"%Y%m%d\") + '.zip'\n",
    "file_to_download = os.path.join(GTFSRT_URL, \n",
    "                                str(yesterday.year), \n",
    "                                str(yesterday.month).zfill(2), \n",
    "                                str(yesterday.day).zfill(2),\n",
    "                                fname)"
   ]
  },
  {
   "cell_type": "code",
   "execution_count": null,
   "id": "5b51f1d6",
   "metadata": {},
   "outputs": [],
   "source": [
    "def download_file(url):\n",
    "    local_filename = url.split('/')[-1]\n",
    "    # NOTE the stream=True parameter below\n",
    "    with requests.get(url, stream=True) as r:\n",
    "        r.raise_for_status()\n",
    "        with open(local_filename, 'wb') as f:\n",
    "            for chunk in r.iter_content(chunk_size=8192): \n",
    "                f.write(chunk)\n",
    "    return local_filename\n",
    "\n",
    "# if file_to_download exists, dont download it again\n",
    "if Path(fname).exists():\n",
    "    print(f\"{fname} already exists, skipping download.\")\n",
    "else:\n",
    "    print(f\"Downloading {file_to_download}...\")\n",
    "    # Download the file \n",
    "    download_file(file_to_download)"
   ]
  },
  {
   "cell_type": "code",
   "execution_count": null,
   "id": "be22208e",
   "metadata": {},
   "outputs": [],
   "source": [
    "from zipfile import ZipFile\n",
    "\n",
    "with ZipFile('gtfsrt-20250722.zip') as zf:\n",
    "    i = 0\n",
    "    for file in zf.namelist():\n",
    "        with zf.open(file, 'r') as f:\n",
    "            # get the file name\n",
    "            file_name = Path(file).name\n",
    "            # read the content\n",
    "            content = f.read()\n",
    "            # write to a new file in the current directory\n",
    "            with open(\"temp/\" + file_name, 'wb') as out_file:\n",
    "                out_file.write(content)"
   ]
  },
  {
   "cell_type": "code",
   "execution_count": null,
   "id": "423c3b10",
   "metadata": {},
   "outputs": [],
   "source": [
    "from gtfs_realtime_utils import get_gtfs_entities_from_directory\n",
    "from gtfsrt_to_csv import entities_to_dataframe, remove_duplicate_reports\n",
    "from operator import attrgetter\n",
    "\n",
    "entities = get_gtfs_entities_from_directory(\"temp\")\n",
    "# df = entities_to_dataframe(entities, round=5)\n",
    "getter = attrgetter('vehicle.trip.trip_id')\n",
    "trip_ids = list(map(getter, entities))\n",
    "# trip_ids = [e.vehicle.trip.trip_id for e in entities]\n",
    "print(\"got records\")\n",
    "df = pd.DataFrame(data={'trip_id': trip_ids})\n",
    "print(\"Added to df\")"
   ]
  },
  {
   "cell_type": "code",
   "execution_count": null,
   "id": "0c280e1b",
   "metadata": {},
   "outputs": [],
   "source": [
    "num_unique_ids_realtime = df.trip_id.nunique()\n",
    "print(\"Number of unique trip_ids: \", num_unique_ids_realtime)\n",
    "unique_ids_realtime = df.trip_id.unique()"
   ]
  },
  {
   "cell_type": "code",
   "execution_count": null,
   "id": "5d4fa01a",
   "metadata": {},
   "outputs": [],
   "source": [
    "from gtfs_utils import GTFSTimetable\n",
    "timetable = GTFSTimetable(\"timetables/itm_london_gtfs_20250722.zip\")"
   ]
  },
  {
   "cell_type": "code",
   "execution_count": null,
   "id": "006f8a4e",
   "metadata": {},
   "outputs": [],
   "source": [
    "agency = timetable.dfs['agency']\n",
    "routes = timetable.dfs['routes']\n",
    "trips = timetable.dfs['trips']\n",
    "calendar = timetable.dfs['calendar']\n",
    "\n",
    "full = agency.merge(routes, on='agency_id', how='inner').merge(trips, on='route_id', how='inner').merge(calendar, on='service_id', how='inner')"
   ]
  },
  {
   "cell_type": "code",
   "execution_count": null,
   "id": "b11f9e89",
   "metadata": {},
   "outputs": [],
   "source": [
    "today = datetime.today()\n",
    "today_as_int = int(today.strftime(\"%Y%m%d\"))\n",
    "day_of_week = today.strftime(\"%A\").lower()\n",
    "print(today_as_int, day_of_week)\n",
    "\n",
    "# Start date is today is today or before, end date is today or after, and service runs on this weekday\n",
    "full_for_today = full[(full.start_date <= today_as_int) & (full.end_date >= today_as_int) & (full[day_of_week]==1)]"
   ]
  },
  {
   "cell_type": "code",
   "execution_count": null,
   "id": "9eadf438",
   "metadata": {},
   "outputs": [],
   "source": [
    "filtered = full_for_today[full_for_today.trip_id.isin(unique_ids_realtime)].filter(items=['agency_id', 'agency_name', 'route_short_name', 'trip_id'])\n",
    "number_in_real = filtered.groupby(['agency_name', 'agency_id'])['trip_id'].size().reset_index().rename(columns={'trip_id': 'real'})"
   ]
  },
  {
   "cell_type": "code",
   "execution_count": null,
   "id": "3d44dee7",
   "metadata": {},
   "outputs": [],
   "source": [
    "number_in_timetable = full_for_today.groupby(['agency_name', 'agency_id'])['trip_id'].size().reset_index().rename(columns={'trip_id': 'timetable'})"
   ]
  },
  {
   "cell_type": "code",
   "execution_count": null,
   "id": "7d53b13f",
   "metadata": {},
   "outputs": [],
   "source": [
    "res = number_in_real.merge(number_in_timetable,on=['agency_name', 'agency_id'], how='left')\n",
    "res['percentage_real_in_timetable'] = (res['real'] / res['timetable']).mul(100).round(2)\n",
    "res.sort_values(by=['percentage_real_in_timetable'], inplace=True, ascending=True)"
   ]
  },
  {
   "cell_type": "code",
   "execution_count": null,
   "id": "38dd8948",
   "metadata": {},
   "outputs": [],
   "source": [
    "# Top 5 and Bottom 5 based on 'score'\n",
    "top_bottom_df = pd.concat([\n",
    "    res.nlargest(5, 'percentage_real_in_timetable'),\n",
    "    res.nsmallest(5, 'percentage_real_in_timetable')\n",
    "]).reset_index(drop=True)"
   ]
  },
  {
   "cell_type": "code",
   "execution_count": null,
   "id": "37129c73",
   "metadata": {},
   "outputs": [],
   "source": [
    "import matplotlib.pyplot as plt\n",
    "\n",
    "# Set figure height dynamically (e.g., 0.5 inches per label)\n",
    "fig_height = 0.5 * len(top_bottom_df.agency_name)\n",
    "\n",
    "plt.figure(figsize=(8, fig_height))  # width=8, height=variable\n",
    "plt.barh(top_bottom_df.agency_name, top_bottom_df.percentage_real_in_timetable)\n",
    "plt.xlabel('Percentage of timetable trips observed at least once in BODS real-time data')\n",
    "plt.title(yesterday)\n",
    "plt.tight_layout()\n",
    "plt.grid(axis='x')\n",
    "plt.xlim(0,100)\n",
    "plt.show()"
   ]
  }
 ],
 "metadata": {
  "kernelspec": {
   "display_name": "Python 3",
   "language": "python",
   "name": "python3"
  },
  "language_info": {
   "codemirror_mode": {
    "name": "ipython",
    "version": 3
   },
   "file_extension": ".py",
   "mimetype": "text/x-python",
   "name": "python",
   "nbconvert_exporter": "python",
   "pygments_lexer": "ipython3",
   "version": "3.12.3"
  }
 },
 "nbformat": 4,
 "nbformat_minor": 5
}
