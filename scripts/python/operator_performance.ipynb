{
 "cells": [
  {
   "cell_type": "markdown",
   "id": "0f8badb0",
   "metadata": {},
   "source": [
    "\n",
    "# How well do operators report their buses in BODS?\n",
    "\n",
    "- download the timetables for a given day and live location GTFSRT zip file for a given day, using BulkDownloader\n",
    "- count how many trip_id from the timetable appear at least once in the live location data\n",
    "- do some processing with OperatorPerformance to make some stats and csv files\n",
    "\n",
    "## Notes\n",
    "\n",
    "- only save the output data file, do everything else in memory\n",
    "\n"
   ]
  },
  {
   "cell_type": "code",
   "execution_count": null,
   "id": "670dcb08",
   "metadata": {},
   "outputs": [],
   "source": [
    "import os\n",
    "from pathlib import Path\n",
    "ROOT = Path(\"../..\").resolve()\n",
    "os.chdir(ROOT)\n",
    "os.getcwd()"
   ]
  },
  {
   "cell_type": "code",
   "execution_count": null,
   "id": "8f0665eb",
   "metadata": {},
   "outputs": [],
   "source": [
    "from scripts.python.OperatorPerformance import *\n",
    "from scripts.python.BulkDownloader import *\n",
    "import matplotlib.pyplot as plt"
   ]
  },
  {
   "cell_type": "code",
   "execution_count": null,
   "id": "e236e823",
   "metadata": {},
   "outputs": [],
   "source": [
    "OP = OperatorPerformance()"
   ]
  },
  {
   "cell_type": "code",
   "execution_count": null,
   "id": "cbae9aad",
   "metadata": {},
   "outputs": [],
   "source": [
    "OP.set_dates('20250817')"
   ]
  },
  {
   "cell_type": "code",
   "execution_count": null,
   "id": "eb9404f1",
   "metadata": {},
   "outputs": [],
   "source": [
    "OP.unzip_bulk_download()"
   ]
  },
  {
   "cell_type": "code",
   "execution_count": null,
   "id": "9d961014",
   "metadata": {},
   "outputs": [],
   "source": [
    "realtime_df = OP.get_entities_as_df()"
   ]
  },
  {
   "cell_type": "code",
   "execution_count": null,
   "id": "a5411424",
   "metadata": {},
   "outputs": [],
   "source": [
    "realtime_ids = OP.get_unique_trip_ids_as_list(realtime_df)"
   ]
  },
  {
   "cell_type": "code",
   "execution_count": null,
   "id": "4da12ecd",
   "metadata": {},
   "outputs": [],
   "source": [
    "timetable_for_given_date = OP.load_timetables('yorkshire', '20250817')"
   ]
  },
  {
   "cell_type": "code",
   "execution_count": null,
   "id": "b7901752",
   "metadata": {},
   "outputs": [],
   "source": [
    "result = OP.trip_id_occurences_per_agency(timetable_for_given_date, realtime_df)"
   ]
  },
  {
   "cell_type": "code",
   "execution_count": null,
   "id": "90189855",
   "metadata": {},
   "outputs": [],
   "source": [
    "result"
   ]
  }
 ],
 "metadata": {
  "kernelspec": {
   "display_name": "bods-archive-itW3hG38",
   "language": "python",
   "name": "python3"
  },
  "language_info": {
   "codemirror_mode": {
    "name": "ipython",
    "version": 3
   },
   "file_extension": ".py",
   "mimetype": "text/x-python",
   "name": "python",
   "nbconvert_exporter": "python",
   "pygments_lexer": "ipython3",
   "version": "3.12.3"
  }
 },
 "nbformat": 4,
 "nbformat_minor": 5
}
